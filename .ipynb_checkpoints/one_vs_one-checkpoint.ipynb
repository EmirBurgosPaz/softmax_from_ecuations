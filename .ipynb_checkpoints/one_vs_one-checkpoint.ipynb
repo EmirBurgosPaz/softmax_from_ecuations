{
 "cells": [
  {
   "cell_type": "markdown",
   "metadata": {},
   "source": [
    "# One vs One"
   ]
  },
  {
   "cell_type": "markdown",
   "metadata": {},
   "source": [
    "# Librerías usadas"
   ]
  },
  {
   "cell_type": "code",
   "execution_count": 1,
   "metadata": {},
   "outputs": [],
   "source": [
    "import numpy as np\n",
    "import matplotlib.pyplot as plt\n",
    "from sklearn.model_selection import train_test_split\n",
    "from sklearn import datasets\n",
    "from sklearn.metrics import confusion_matrix\n",
    "from sklearn.metrics import classification_report\n",
    "import seaborn as sns\n"
   ]
  },
  {
   "cell_type": "markdown",
   "metadata": {},
   "source": [
    "# Funciones Usadas"
   ]
  },
  {
   "cell_type": "code",
   "execution_count": 2,
   "metadata": {},
   "outputs": [],
   "source": [
    "def sigmoid(z):\n",
    "    return 1/(1+np.exp(-z))"
   ]
  },
  {
   "cell_type": "code",
   "execution_count": 3,
   "metadata": {},
   "outputs": [],
   "source": [
    "def optimizar(theta, x_train, y_train):\n",
    "    sigma = sigmoid(x_train@theta)\n",
    "    theta = (x_train.T @ (sigma-y_train))\n",
    "    return theta"
   ]
  },
  {
   "cell_type": "code",
   "execution_count": 4,
   "metadata": {},
   "outputs": [],
   "source": [
    "def costo(theta, x_train, y_train):\n",
    "    \n",
    "    sigma = sigmoid(x_train@theta)\n",
    "    error = (y_train*np.log(sigma) + (1-y_train)*np.log(1-sigma))\n",
    "    return np.sum(error, axis= 0)"
   ]
  },
  {
   "cell_type": "code",
   "execution_count": 5,
   "metadata": {},
   "outputs": [],
   "source": [
    "def gradiente(theta, x_train, y_train, eta = 0.8, n_iter = 10000):\n",
    "    J = np.zeros(n_iter)\n",
    "    m = len(x_train)\n",
    "    for i in range(n_iter):\n",
    "        J[i] = -(1/m)*costo(theta, x_train, y_train)\n",
    "        theta = theta - eta * (1/m)*optimizar(theta, x_train, y_train)\n",
    "    return theta, J"
   ]
  },
  {
   "cell_type": "code",
   "execution_count": 6,
   "metadata": {},
   "outputs": [],
   "source": [
    "def  vector_comparacion(y_proba_1, y_proba_2, y_proba_1_value, y_proba_2_value):\n",
    "    comparar = np.concatenate((y_proba_1, y_proba_2), axis =0).T\n",
    "    prediction_final = []\n",
    "    for i in range(len(comparar)):\n",
    "        #print(compar[i])\n",
    "        valor_max = comparar[i].max()\n",
    "        #print(compar[i].max())\n",
    "        if comparar[i][0] == valor_max:\n",
    "            prediction_final.append(y_proba_1_value)\n",
    "        elif comparar[i][1] == valor_max:\n",
    "            prediction_final.append(y_proba_2_value)\n",
    "\n",
    "    prediction_final = np.array(prediction_final).reshape(1, len(prediction_final))\n",
    "    last_data = np.concatenate((y_proba_1, y_proba_2, prediction_final), axis =0).T\n",
    "    return last_data, prediction_final.T\n"
   ]
  },
  {
   "cell_type": "code",
   "execution_count": 7,
   "metadata": {},
   "outputs": [],
   "source": [
    "def exclude_data(class_vector, num_exclude):\n",
    "    vectores = []\n",
    "\n",
    "    for i in range(len(class_vector)):\n",
    "        if class_vector[i] != num_exclude:\n",
    "            vectores.append(i)\n",
    "\n",
    "    return np.array(vectores)  "
   ]
  },
  {
   "cell_type": "markdown",
   "metadata": {},
   "source": [
    "# Creación del modelo"
   ]
  },
  {
   "cell_type": "code",
   "execution_count": 8,
   "metadata": {},
   "outputs": [],
   "source": [
    "iris = datasets.load_iris()"
   ]
  },
  {
   "cell_type": "code",
   "execution_count": 9,
   "metadata": {},
   "outputs": [],
   "source": [
    "x = iris[\"data\"][::]\n",
    "y = (iris[\"target\"]).astype(np.int32).reshape(len(iris['target']),1)\n"
   ]
  },
  {
   "cell_type": "code",
   "execution_count": 10,
   "metadata": {},
   "outputs": [],
   "source": [
    "for i in range(x.shape[1]):\n",
    "    mean = x[:,i].mean()\n",
    "    deviation =  x[:,i].std()\n",
    "    x[:,i] = (x[:,i] - mean) / deviation"
   ]
  },
  {
   "cell_type": "code",
   "execution_count": 11,
   "metadata": {},
   "outputs": [],
   "source": [
    "x_train, x_test, y_train, y_test = train_test_split(x, y)"
   ]
  },
  {
   "cell_type": "code",
   "execution_count": 12,
   "metadata": {},
   "outputs": [
    {
     "data": {
      "text/plain": [
       "array(['setosa', 'versicolor', 'virginica'], dtype='<U10')"
      ]
     },
     "execution_count": 12,
     "metadata": {},
     "output_type": "execute_result"
    }
   ],
   "source": [
    "iris[\"target_names\"]"
   ]
  },
  {
   "cell_type": "markdown",
   "metadata": {},
   "source": [
    "Se aplica la sigueinte Fórmula $$\\frac{n * (n -1)}{2} $$\n",
    "\n",
    "Debido a que tenemos 3 clases, la fórmula nos devuelve el valor de 3, con este valor debemos de hacer 3 combinaciones de pares de datos. Estas combinaciones serian:\n",
    "\n",
    "AB\n",
    "AC\n",
    "BC \n",
    "\n",
    "Donde:\n",
    "\n",
    "A = setosa\n",
    "B = versicolor\n",
    "C = virginica"
   ]
  },
  {
   "cell_type": "markdown",
   "metadata": {},
   "source": [
    "# AB\n",
    "\n",
    "## Setosa vs versicolor"
   ]
  },
  {
   "cell_type": "code",
   "execution_count": 13,
   "metadata": {},
   "outputs": [
    {
     "data": {
      "text/plain": [
       "array([  0,   4,   5,   6,   7,   8,  10,  12,  14,  15,  16,  17,  20,\n",
       "        21,  23,  26,  29,  31,  32,  34,  35,  36,  39,  41,  42,  44,\n",
       "        45,  46,  47,  48,  51,  52,  53,  54,  55,  56,  58,  59,  60,\n",
       "        62,  63,  64,  65,  68,  69,  70,  71,  72,  74,  75,  78,  80,\n",
       "        83,  84,  85,  86,  87,  88,  93,  95,  96,  99, 100, 101, 103,\n",
       "       105, 106, 108, 110, 111])"
      ]
     },
     "execution_count": 13,
     "metadata": {},
     "output_type": "execute_result"
    }
   ],
   "source": [
    "num_index_x_train_AB = exclude_data(y_train, 2)\n",
    "num_index_x_train_AB"
   ]
  },
  {
   "cell_type": "code",
   "execution_count": 14,
   "metadata": {},
   "outputs": [],
   "source": [
    "x_train_AB = x_train[num_index_x_train_AB]\n",
    "y_train_AB = y_train[num_index_x_train_AB]\n"
   ]
  },
  {
   "cell_type": "code",
   "execution_count": 15,
   "metadata": {},
   "outputs": [],
   "source": [
    "x_train_AB = np.c_[np.ones((len(x_train_AB),1)), x_train_AB]\n",
    "x_test_AB = np.c_[np.ones((len(x_test),1)), x_test]"
   ]
  },
  {
   "cell_type": "code",
   "execution_count": 16,
   "metadata": {},
   "outputs": [
    {
     "data": {
      "text/plain": [
       "(70, 5)"
      ]
     },
     "execution_count": 16,
     "metadata": {},
     "output_type": "execute_result"
    }
   ],
   "source": [
    "x_train_AB.shape"
   ]
  },
  {
   "cell_type": "code",
   "execution_count": 17,
   "metadata": {},
   "outputs": [
    {
     "data": {
      "text/plain": [
       "array([[-5.36045176],\n",
       "       [-2.15378605],\n",
       "       [ 3.45438165],\n",
       "       [-5.3098846 ],\n",
       "       [-4.7947118 ]])"
      ]
     },
     "execution_count": 17,
     "metadata": {},
     "output_type": "execute_result"
    }
   ],
   "source": [
    "n_iter = 10000\n",
    "\n",
    "theta_setosa_AB = np.random.randn(x_train_AB.shape[1]).reshape(x_train_AB.shape[1],1)\n",
    "y_train_set_AB = (y_train_AB == 0).astype(int)\n",
    "\n",
    "theta_setosa_AB, J_set = gradiente(theta_setosa_AB, x_train_AB, y_train_set_AB)\n",
    "theta_setosa_AB"
   ]
  },
  {
   "cell_type": "code",
   "execution_count": 18,
   "metadata": {},
   "outputs": [
    {
     "data": {
      "image/png": "[encoded data removed]",
      "text/plain": [
       "<Figure size 432x288 with 1 Axes>"
      ]
     },
     "metadata": {
      "needs_background": "light"
     },
     "output_type": "display_data"
    }
   ],
   "source": [
    "plt.plot(np.arange(n_iter), J_set, \"b-\")\n",
    "plt.xlabel(\"$iteraciones$\", fontsize=18)\n",
    "plt.ylabel(r\"$J(\\theta)$\", fontsize=18)\n",
    "plt.grid(True)\n",
    "plt.show()"
   ]
  },
  {
   "cell_type": "code",
   "execution_count": 19,
   "metadata": {},
   "outputs": [
    {
     "data": {
      "text/plain": [
       "array([[0.  , 0.  , 1.  , 1.  , 1.  , 0.  , 1.  , 1.  , 1.  , 0.  , 0.  ,\n",
       "        0.  , 0.  , 0.  , 0.  , 0.  , 0.  , 1.  , 0.  , 0.  , 1.  , 1.  ,\n",
       "        0.  , 0.  , 1.  , 1.  , 1.  , 0.  , 1.  , 0.  , 1.  , 0.01, 1.  ,\n",
       "        0.  , 0.  , 0.  , 0.  , 0.  ]])"
      ]
     },
     "execution_count": 19,
     "metadata": {},
     "output_type": "execute_result"
    }
   ],
   "source": [
    "y_proba_set_AB =np.round(sigmoid(theta_setosa_AB.T @ x_test_AB.T),2)\n",
    "y_proba_set_AB"
   ]
  },
  {
   "cell_type": "code",
   "execution_count": 20,
   "metadata": {},
   "outputs": [
    {
     "data": {
      "text/plain": [
       "array([[ 5.53699358],\n",
       "       [ 3.02778522],\n",
       "       [-3.75839891],\n",
       "       [ 5.38847979],\n",
       "       [ 4.05209572]])"
      ]
     },
     "execution_count": 20,
     "metadata": {},
     "output_type": "execute_result"
    }
   ],
   "source": [
    "eta = 0.8\n",
    "n_iter = 10000\n",
    "theta_versicolor_AB = np.random.randn(x_train_AB.shape[1]).reshape(x_train_AB.shape[1],1)\n",
    "y_train_ver_AB = (y_train_AB == 1).astype(int)\n",
    "\n",
    "theta_versicolor_AB, J_vers = gradiente(theta_versicolor_AB, x_train_AB, y_train_ver_AB)\n",
    "theta_versicolor_AB"
   ]
  },
  {
   "cell_type": "code",
   "execution_count": 21,
   "metadata": {},
   "outputs": [
    {
     "data": {
      "image/png": "[encoded data removed]",
      "text/plain": [
       "<Figure size 432x288 with 1 Axes>"
      ]
     },
     "metadata": {
      "needs_background": "light"
     },
     "output_type": "display_data"
    }
   ],
   "source": [
    "plt.plot(np.arange(n_iter), J_vers, \"b-\")\n",
    "plt.xlabel(\"$iteraciones$\", fontsize=18)\n",
    "plt.ylabel(r\"$J(\\theta)$\", fontsize=18)\n",
    "plt.grid(True)\n",
    "plt.show()"
   ]
  },
  {
   "cell_type": "code",
   "execution_count": 22,
   "metadata": {},
   "outputs": [
    {
     "data": {
      "text/plain": [
       "array([[1.  , 1.  , 0.  , 0.  , 0.  , 1.  , 0.  , 0.  , 0.  , 1.  , 1.  ,\n",
       "        1.  , 1.  , 1.  , 1.  , 1.  , 1.  , 0.  , 1.  , 1.  , 0.  , 0.  ,\n",
       "        1.  , 1.  , 0.  , 0.  , 0.  , 1.  , 0.  , 1.  , 0.  , 0.99, 0.  ,\n",
       "        1.  , 1.  , 1.  , 1.  , 1.  ]])"
      ]
     },
     "execution_count": 22,
     "metadata": {},
     "output_type": "execute_result"
    }
   ],
   "source": [
    "y_proba_ver_AB =np.round(sigmoid(theta_versicolor_AB.T @ x_test_AB.T),2)\n",
    "y_proba_ver_AB"
   ]
  },
  {
   "cell_type": "code",
   "execution_count": 23,
   "metadata": {},
   "outputs": [
    {
     "data": {
      "text/plain": [
       "array([[0.  , 1.  , 1.  ],\n",
       "       [0.  , 1.  , 1.  ],\n",
       "       [1.  , 0.  , 0.  ],\n",
       "       [1.  , 0.  , 0.  ],\n",
       "       [1.  , 0.  , 0.  ],\n",
       "       [0.  , 1.  , 1.  ],\n",
       "       [1.  , 0.  , 0.  ],\n",
       "       [1.  , 0.  , 0.  ],\n",
       "       [1.  , 0.  , 0.  ],\n",
       "       [0.  , 1.  , 1.  ],\n",
       "       [0.  , 1.  , 1.  ],\n",
       "       [0.  , 1.  , 1.  ],\n",
       "       [0.  , 1.  , 1.  ],\n",
       "       [0.  , 1.  , 1.  ],\n",
       "       [0.  , 1.  , 1.  ],\n",
       "       [0.  , 1.  , 1.  ],\n",
       "       [0.  , 1.  , 1.  ],\n",
       "       [1.  , 0.  , 0.  ],\n",
       "       [0.  , 1.  , 1.  ],\n",
       "       [0.  , 1.  , 1.  ],\n",
       "       [1.  , 0.  , 0.  ],\n",
       "       [1.  , 0.  , 0.  ],\n",
       "       [0.  , 1.  , 1.  ],\n",
       "       [0.  , 1.  , 1.  ],\n",
       "       [1.  , 0.  , 0.  ],\n",
       "       [1.  , 0.  , 0.  ],\n",
       "       [1.  , 0.  , 0.  ],\n",
       "       [0.  , 1.  , 1.  ],\n",
       "       [1.  , 0.  , 0.  ],\n",
       "       [0.  , 1.  , 1.  ],\n",
       "       [1.  , 0.  , 0.  ],\n",
       "       [0.01, 0.99, 1.  ],\n",
       "       [1.  , 0.  , 0.  ],\n",
       "       [0.  , 1.  , 1.  ],\n",
       "       [0.  , 1.  , 1.  ],\n",
       "       [0.  , 1.  , 1.  ],\n",
       "       [0.  , 1.  , 1.  ],\n",
       "       [0.  , 1.  , 1.  ]])"
      ]
     },
     "execution_count": 23,
     "metadata": {},
     "output_type": "execute_result"
    }
   ],
   "source": [
    "last_data_AB, votar_AB = vector_comparacion(y_proba_set_AB,y_proba_ver_AB, 0 ,1)\n",
    "last_data_AB"
   ]
  },
  {
   "cell_type": "code",
   "execution_count": 24,
   "metadata": {},
   "outputs": [
    {
     "data": {
      "text/plain": [
       "array(['setosa', 'versicolor', 'virginica'], dtype='<U10')"
      ]
     },
     "execution_count": 24,
     "metadata": {},
     "output_type": "execute_result"
    }
   ],
   "source": [
    "iris[\"target_names\"]"
   ]
  },
  {
   "cell_type": "markdown",
   "metadata": {},
   "source": [
    "# AC\n",
    "\n",
    "## setosa vs  virginica"
   ]
  },
  {
   "cell_type": "code",
   "execution_count": 25,
   "metadata": {},
   "outputs": [],
   "source": [
    "num_index_x_train_AC = exclude_data(y_train, 1)\n"
   ]
  },
  {
   "cell_type": "code",
   "execution_count": 26,
   "metadata": {},
   "outputs": [],
   "source": [
    "x_train_AC = x_train[num_index_x_train_AC]\n",
    "y_train_AC = y_train[num_index_x_train_AC]\n"
   ]
  },
  {
   "cell_type": "code",
   "execution_count": 27,
   "metadata": {},
   "outputs": [],
   "source": [
    "x_train_AC = np.c_[np.ones((len(x_train_AC),1)), x_train_AC]\n",
    "x_test_AC = np.c_[np.ones((len(x_test),1)), x_test]"
   ]
  },
  {
   "cell_type": "code",
   "execution_count": 28,
   "metadata": {},
   "outputs": [
    {
     "data": {
      "text/plain": [
       "(77, 5)"
      ]
     },
     "execution_count": 28,
     "metadata": {},
     "output_type": "execute_result"
    }
   ],
   "source": [
    "x_train_AC.shape"
   ]
  },
  {
   "cell_type": "code",
   "execution_count": 29,
   "metadata": {},
   "outputs": [
    {
     "data": {
      "text/plain": [
       "array([[-1.50856584],\n",
       "       [-2.18504877],\n",
       "       [ 1.37220397],\n",
       "       [-3.19105281],\n",
       "       [-4.18530465]])"
      ]
     },
     "execution_count": 29,
     "metadata": {},
     "output_type": "execute_result"
    }
   ],
   "source": [
    "n_iter = 10000\n",
    "\n",
    "theta_setosa_AC = np.random.randn(x_train_AC.shape[1]).reshape(x_train_AC.shape[1],1)\n",
    "y_train_set_AC = (y_train_AC == 0).astype(int)\n",
    "\n",
    "theta_setosa_AC, J_set = gradiente(theta_setosa_AC, x_train_AC, y_train_set_AC)\n",
    "theta_setosa_AC"
   ]
  },
  {
   "cell_type": "code",
   "execution_count": 30,
   "metadata": {},
   "outputs": [
    {
     "data": {
      "image/png": "[encoded data removed]",
      "text/plain": [
       "<Figure size 432x288 with 1 Axes>"
      ]
     },
     "metadata": {
      "needs_background": "light"
     },
     "output_type": "display_data"
    }
   ],
   "source": [
    "plt.plot(np.arange(n_iter), J_set, \"b-\")\n",
    "plt.xlabel(\"$iteraciones$\", fontsize=18)\n",
    "plt.ylabel(r\"$J(\\theta)$\", fontsize=18)\n",
    "plt.grid(True)\n",
    "plt.show()"
   ]
  },
  {
   "cell_type": "code",
   "execution_count": 31,
   "metadata": {},
   "outputs": [
    {
     "data": {
      "text/plain": [
       "array([[0.  , 0.  , 1.  , 1.  , 1.  , 0.  , 1.  , 1.  , 1.  , 0.  , 0.  ,\n",
       "        0.02, 0.  , 0.1 , 0.  , 0.  , 0.  , 1.  , 0.19, 0.04, 1.  , 1.  ,\n",
       "        0.  , 0.01, 1.  , 1.  , 1.  , 0.  , 1.  , 0.  , 1.  , 0.65, 1.  ,\n",
       "        0.  , 0.  , 0.01, 0.  , 0.  ]])"
      ]
     },
     "execution_count": 31,
     "metadata": {},
     "output_type": "execute_result"
    }
   ],
   "source": [
    "y_proba_set_AC =np.round(sigmoid(theta_setosa_AC.T @ x_test_AC.T),2)\n",
    "y_proba_set_AC"
   ]
  },
  {
   "cell_type": "code",
   "execution_count": 32,
   "metadata": {},
   "outputs": [
    {
     "data": {
      "text/plain": [
       "array([[ 1.78015199],\n",
       "       [ 2.82853146],\n",
       "       [-1.49981482],\n",
       "       [ 4.41332793],\n",
       "       [ 2.46619548]])"
      ]
     },
     "execution_count": 32,
     "metadata": {},
     "output_type": "execute_result"
    }
   ],
   "source": [
    "eta = 0.8\n",
    "n_iter = 10000\n",
    "theta_virginica_AC = np.random.randn(x_train_AC.shape[1]).reshape(x_train_AC.shape[1],1)\n",
    "y_train_ver_AC = (y_train_AC == 2).astype(int)\n",
    "\n",
    "theta_virginica_AC, J_vir = gradiente(theta_virginica_AC, x_train_AC, y_train_ver_AC)\n",
    "theta_virginica_AC"
   ]
  },
  {
   "cell_type": "code",
   "execution_count": 33,
   "metadata": {},
   "outputs": [
    {
     "data": {
      "image/png": "[encoded data removed]",
      "text/plain": [
       "<Figure size 432x288 with 1 Axes>"
      ]
     },
     "metadata": {
      "needs_background": "light"
     },
     "output_type": "display_data"
    }
   ],
   "source": [
    "plt.plot(np.arange(n_iter), J_vir, \"b-\")\n",
    "plt.xlabel(\"$iteraciones$\", fontsize=18)\n",
    "plt.ylabel(r\"$J(\\theta)$\", fontsize=18)\n",
    "plt.grid(True)\n",
    "plt.show()"
   ]
  },
  {
   "cell_type": "code",
   "execution_count": 34,
   "metadata": {},
   "outputs": [
    {
     "data": {
      "text/plain": [
       "array([[1.  , 1.  , 0.  , 0.  , 0.  , 1.  , 0.  , 0.  , 0.  , 1.  , 1.  ,\n",
       "        0.98, 1.  , 0.91, 1.  , 1.  , 1.  , 0.  , 0.89, 0.98, 0.  , 0.  ,\n",
       "        1.  , 1.  , 0.  , 0.  , 0.  , 1.  , 0.  , 1.  , 0.  , 0.26, 0.  ,\n",
       "        1.  , 1.  , 0.98, 1.  , 1.  ]])"
      ]
     },
     "execution_count": 34,
     "metadata": {},
     "output_type": "execute_result"
    }
   ],
   "source": [
    "y_proba_vir_AC =np.round(sigmoid(theta_virginica_AC.T @ x_test_AC.T),2)\n",
    "y_proba_vir_AC"
   ]
  },
  {
   "cell_type": "code",
   "execution_count": 35,
   "metadata": {},
   "outputs": [
    {
     "data": {
      "text/plain": [
       "array([[0.  , 1.  , 2.  ],\n",
       "       [0.  , 1.  , 2.  ],\n",
       "       [1.  , 0.  , 0.  ],\n",
       "       [1.  , 0.  , 0.  ],\n",
       "       [1.  , 0.  , 0.  ],\n",
       "       [0.  , 1.  , 2.  ],\n",
       "       [1.  , 0.  , 0.  ],\n",
       "       [1.  , 0.  , 0.  ],\n",
       "       [1.  , 0.  , 0.  ],\n",
       "       [0.  , 1.  , 2.  ],\n",
       "       [0.  , 1.  , 2.  ],\n",
       "       [0.02, 0.98, 2.  ],\n",
       "       [0.  , 1.  , 2.  ],\n",
       "       [0.1 , 0.91, 2.  ],\n",
       "       [0.  , 1.  , 2.  ],\n",
       "       [0.  , 1.  , 2.  ],\n",
       "       [0.  , 1.  , 2.  ],\n",
       "       [1.  , 0.  , 0.  ],\n",
       "       [0.19, 0.89, 2.  ],\n",
       "       [0.04, 0.98, 2.  ],\n",
       "       [1.  , 0.  , 0.  ],\n",
       "       [1.  , 0.  , 0.  ],\n",
       "       [0.  , 1.  , 2.  ],\n",
       "       [0.01, 1.  , 2.  ],\n",
       "       [1.  , 0.  , 0.  ],\n",
       "       [1.  , 0.  , 0.  ],\n",
       "       [1.  , 0.  , 0.  ],\n",
       "       [0.  , 1.  , 2.  ],\n",
       "       [1.  , 0.  , 0.  ],\n",
       "       [0.  , 1.  , 2.  ],\n",
       "       [1.  , 0.  , 0.  ],\n",
       "       [0.65, 0.26, 0.  ],\n",
       "       [1.  , 0.  , 0.  ],\n",
       "       [0.  , 1.  , 2.  ],\n",
       "       [0.  , 1.  , 2.  ],\n",
       "       [0.01, 0.98, 2.  ],\n",
       "       [0.  , 1.  , 2.  ],\n",
       "       [0.  , 1.  , 2.  ]])"
      ]
     },
     "execution_count": 35,
     "metadata": {},
     "output_type": "execute_result"
    }
   ],
   "source": [
    "last_data_AC, votar_AC = vector_comparacion(y_proba_set_AC,y_proba_vir_AC, 0 ,2)\n",
    "last_data_AC"
   ]
  },
  {
   "cell_type": "code",
   "execution_count": 36,
   "metadata": {},
   "outputs": [
    {
     "data": {
      "text/plain": [
       "array(['setosa', 'versicolor', 'virginica'], dtype='<U10')"
      ]
     },
     "execution_count": 36,
     "metadata": {},
     "output_type": "execute_result"
    }
   ],
   "source": [
    "iris[\"target_names\"]"
   ]
  },
  {
   "cell_type": "markdown",
   "metadata": {},
   "source": [
    "# BC\n",
    "\n",
    "## versicolor vs  virginica"
   ]
  },
  {
   "cell_type": "code",
   "execution_count": 37,
   "metadata": {},
   "outputs": [],
   "source": [
    "num_index_x_train_BC = exclude_data(y_train, 0)\n"
   ]
  },
  {
   "cell_type": "code",
   "execution_count": 38,
   "metadata": {},
   "outputs": [],
   "source": [
    "x_train_BC = x_train[num_index_x_train_BC]\n",
    "y_train_BC = y_train[num_index_x_train_BC]\n"
   ]
  },
  {
   "cell_type": "code",
   "execution_count": 39,
   "metadata": {},
   "outputs": [],
   "source": [
    "x_train_BC = np.c_[np.ones((len(x_train_BC),1)), x_train_BC]\n",
    "x_test_BC = np.c_[np.ones((len(x_test),1)), x_test]"
   ]
  },
  {
   "cell_type": "code",
   "execution_count": 40,
   "metadata": {},
   "outputs": [
    {
     "data": {
      "text/plain": [
       "(77, 5)"
      ]
     },
     "execution_count": 40,
     "metadata": {},
     "output_type": "execute_result"
    }
   ],
   "source": [
    "x_train_BC.shape"
   ]
  },
  {
   "cell_type": "code",
   "execution_count": 41,
   "metadata": {},
   "outputs": [
    {
     "data": {
      "text/plain": [
       "array([[ 12.70066747],\n",
       "       [  1.72970136],\n",
       "       [  0.99418551],\n",
       "       [-11.31141546],\n",
       "       [ -9.72903391]])"
      ]
     },
     "execution_count": 41,
     "metadata": {},
     "output_type": "execute_result"
    }
   ],
   "source": [
    "n_iter = 10000\n",
    "\n",
    "theta_versicolor_BC = np.random.randn(x_train_BC.shape[1]).reshape(x_train_BC.shape[1],1)\n",
    "y_train_set_BC = (y_train_BC == 1).astype(int)\n",
    "\n",
    "theta_versicolor_BC, J_set = gradiente(theta_versicolor_BC, x_train_BC, y_train_set_BC)\n",
    "theta_versicolor_BC"
   ]
  },
  {
   "cell_type": "code",
   "execution_count": 42,
   "metadata": {},
   "outputs": [
    {
     "data": {
      "image/png": "[encoded data removed]",
      "text/plain": [
       "<Figure size 432x288 with 1 Axes>"
      ]
     },
     "metadata": {
      "needs_background": "light"
     },
     "output_type": "display_data"
    }
   ],
   "source": [
    "plt.plot(np.arange(n_iter), J_set, \"b-\")\n",
    "plt.xlabel(\"$iteraciones$\", fontsize=18)\n",
    "plt.ylabel(r\"$J(\\theta)$\", fontsize=18)\n",
    "plt.grid(True)\n",
    "plt.show()"
   ]
  },
  {
   "cell_type": "code",
   "execution_count": 43,
   "metadata": {},
   "outputs": [
    {
     "data": {
      "text/plain": [
       "array([[1.  , 0.  , 1.  , 1.  , 1.  , 0.22, 1.  , 1.  , 1.  , 0.  , 0.01,\n",
       "        0.97, 1.  , 1.  , 0.  , 0.  , 0.77, 1.  , 1.  , 1.  , 1.  , 1.  ,\n",
       "        0.95, 1.  , 1.  , 1.  , 1.  , 0.99, 1.  , 0.99, 1.  , 1.  , 1.  ,\n",
       "        0.95, 1.  , 0.15, 0.  , 0.32]])"
      ]
     },
     "execution_count": 43,
     "metadata": {},
     "output_type": "execute_result"
    }
   ],
   "source": [
    "y_proba_ver_BC =np.round(sigmoid(theta_versicolor_BC.T @ x_test_BC.T),2)\n",
    "y_proba_ver_BC"
   ]
  },
  {
   "cell_type": "code",
   "execution_count": 44,
   "metadata": {},
   "outputs": [
    {
     "data": {
      "text/plain": [
       "array([[-12.70804007],\n",
       "       [ -1.73145702],\n",
       "       [ -0.9929498 ],\n",
       "       [ 11.32053536],\n",
       "       [  9.73278499]])"
      ]
     },
     "execution_count": 44,
     "metadata": {},
     "output_type": "execute_result"
    }
   ],
   "source": [
    "n_iter = 10000\n",
    "\n",
    "theta_virginica_BC = np.random.randn(x_train_BC.shape[1]).reshape(x_train_BC.shape[1],1)\n",
    "y_train_set_BC = (y_train_BC == 2).astype(int)\n",
    "\n",
    "theta_virginica_BC, J_set = gradiente(theta_virginica_BC, x_train_BC, y_train_set_BC)\n",
    "theta_virginica_BC"
   ]
  },
  {
   "cell_type": "code",
   "execution_count": 45,
   "metadata": {},
   "outputs": [
    {
     "data": {
      "image/png": "[encoded data removed]",
      "text/plain": [
       "<Figure size 432x288 with 1 Axes>"
      ]
     },
     "metadata": {
      "needs_background": "light"
     },
     "output_type": "display_data"
    }
   ],
   "source": [
    "plt.plot(np.arange(n_iter), J_set, \"b-\")\n",
    "plt.xlabel(\"$iteraciones$\", fontsize=18)\n",
    "plt.ylabel(r\"$J(\\theta)$\", fontsize=18)\n",
    "plt.grid(True)\n",
    "plt.show()"
   ]
  },
  {
   "cell_type": "code",
   "execution_count": 46,
   "metadata": {},
   "outputs": [
    {
     "data": {
      "text/plain": [
       "array([[0.  , 1.  , 0.  , 0.  , 0.  , 0.78, 0.  , 0.  , 0.  , 1.  , 0.99,\n",
       "        0.03, 0.  , 0.  , 1.  , 1.  , 0.23, 0.  , 0.  , 0.  , 0.  , 0.  ,\n",
       "        0.05, 0.  , 0.  , 0.  , 0.  , 0.01, 0.  , 0.01, 0.  , 0.  , 0.  ,\n",
       "        0.05, 0.  , 0.85, 1.  , 0.68]])"
      ]
     },
     "execution_count": 46,
     "metadata": {},
     "output_type": "execute_result"
    }
   ],
   "source": [
    "y_proba_vir_BC =np.round(sigmoid(theta_virginica_BC.T @ x_test_BC.T),2)\n",
    "y_proba_vir_BC"
   ]
  },
  {
   "cell_type": "code",
   "execution_count": 47,
   "metadata": {},
   "outputs": [
    {
     "data": {
      "text/plain": [
       "array([[1.  , 0.  , 1.  ],\n",
       "       [0.  , 1.  , 2.  ],\n",
       "       [1.  , 0.  , 1.  ],\n",
       "       [1.  , 0.  , 1.  ],\n",
       "       [1.  , 0.  , 1.  ],\n",
       "       [0.22, 0.78, 2.  ],\n",
       "       [1.  , 0.  , 1.  ],\n",
       "       [1.  , 0.  , 1.  ],\n",
       "       [1.  , 0.  , 1.  ],\n",
       "       [0.  , 1.  , 2.  ],\n",
       "       [0.01, 0.99, 2.  ],\n",
       "       [0.97, 0.03, 1.  ],\n",
       "       [1.  , 0.  , 1.  ],\n",
       "       [1.  , 0.  , 1.  ],\n",
       "       [0.  , 1.  , 2.  ],\n",
       "       [0.  , 1.  , 2.  ],\n",
       "       [0.77, 0.23, 1.  ],\n",
       "       [1.  , 0.  , 1.  ],\n",
       "       [1.  , 0.  , 1.  ],\n",
       "       [1.  , 0.  , 1.  ],\n",
       "       [1.  , 0.  , 1.  ],\n",
       "       [1.  , 0.  , 1.  ],\n",
       "       [0.95, 0.05, 1.  ],\n",
       "       [1.  , 0.  , 1.  ],\n",
       "       [1.  , 0.  , 1.  ],\n",
       "       [1.  , 0.  , 1.  ],\n",
       "       [1.  , 0.  , 1.  ],\n",
       "       [0.99, 0.01, 1.  ],\n",
       "       [1.  , 0.  , 1.  ],\n",
       "       [0.99, 0.01, 1.  ],\n",
       "       [1.  , 0.  , 1.  ],\n",
       "       [1.  , 0.  , 1.  ],\n",
       "       [1.  , 0.  , 1.  ],\n",
       "       [0.95, 0.05, 1.  ],\n",
       "       [1.  , 0.  , 1.  ],\n",
       "       [0.15, 0.85, 2.  ],\n",
       "       [0.  , 1.  , 2.  ],\n",
       "       [0.32, 0.68, 2.  ]])"
      ]
     },
     "execution_count": 47,
     "metadata": {},
     "output_type": "execute_result"
    }
   ],
   "source": [
    "last_data_BC, votar_BC = vector_comparacion(y_proba_ver_BC,y_proba_vir_BC, 1 ,2)\n",
    "last_data_BC"
   ]
  },
  {
   "cell_type": "code",
   "execution_count": 48,
   "metadata": {},
   "outputs": [
    {
     "data": {
      "text/plain": [
       "(array([[1, 1, 0, 0, 0, 1, 0, 0, 0, 1, 1, 1, 1, 1, 1, 1, 1, 0, 1, 1, 0, 0,\n",
       "         1, 1, 0, 0, 0, 1, 0, 1, 0, 1, 0, 1, 1, 1, 1, 1]]),\n",
       " array([[2, 2, 0, 0, 0, 2, 0, 0, 0, 2, 2, 2, 2, 2, 2, 2, 2, 0, 2, 2, 0, 0,\n",
       "         2, 2, 0, 0, 0, 2, 0, 2, 0, 0, 0, 2, 2, 2, 2, 2]]),\n",
       " array([[1, 2, 1, 1, 1, 2, 1, 1, 1, 2, 2, 1, 1, 1, 2, 2, 1, 1, 1, 1, 1, 1,\n",
       "         1, 1, 1, 1, 1, 1, 1, 1, 1, 1, 1, 1, 1, 2, 2, 2]]),\n",
       " array([[1, 2, 0, 0, 0, 1, 0, 0, 0, 2, 2, 1, 1, 1, 2, 2, 1, 0, 1, 1, 0, 0,\n",
       "         1, 1, 0, 0, 0, 1, 0, 1, 0, 1, 0, 1, 1, 2, 2, 2]]))"
      ]
     },
     "execution_count": 48,
     "metadata": {},
     "output_type": "execute_result"
    }
   ],
   "source": [
    "votar_AB.T, votar_AC.T, votar_BC.T, y_test.T"
   ]
  },
  {
   "cell_type": "code",
   "execution_count": 49,
   "metadata": {},
   "outputs": [
    {
     "data": {
      "text/plain": [
       "array([[1, 2, 1],\n",
       "       [1, 2, 2],\n",
       "       [0, 0, 1],\n",
       "       [0, 0, 1],\n",
       "       [0, 0, 1],\n",
       "       [1, 2, 2],\n",
       "       [0, 0, 1],\n",
       "       [0, 0, 1],\n",
       "       [0, 0, 1],\n",
       "       [1, 2, 2],\n",
       "       [1, 2, 2],\n",
       "       [1, 2, 1],\n",
       "       [1, 2, 1],\n",
       "       [1, 2, 1],\n",
       "       [1, 2, 2],\n",
       "       [1, 2, 2],\n",
       "       [1, 2, 1],\n",
       "       [0, 0, 1],\n",
       "       [1, 2, 1],\n",
       "       [1, 2, 1],\n",
       "       [0, 0, 1],\n",
       "       [0, 0, 1],\n",
       "       [1, 2, 1],\n",
       "       [1, 2, 1],\n",
       "       [0, 0, 1],\n",
       "       [0, 0, 1],\n",
       "       [0, 0, 1],\n",
       "       [1, 2, 1],\n",
       "       [0, 0, 1],\n",
       "       [1, 2, 1],\n",
       "       [0, 0, 1],\n",
       "       [1, 0, 1],\n",
       "       [0, 0, 1],\n",
       "       [1, 2, 1],\n",
       "       [1, 2, 1],\n",
       "       [1, 2, 2],\n",
       "       [1, 2, 2],\n",
       "       [1, 2, 2]])"
      ]
     },
     "execution_count": 49,
     "metadata": {},
     "output_type": "execute_result"
    }
   ],
   "source": [
    "vote_data = np.concatenate((votar_AB, votar_AC, votar_BC), axis =1)\n",
    "vote_data"
   ]
  },
  {
   "cell_type": "code",
   "execution_count": 50,
   "metadata": {},
   "outputs": [
    {
     "data": {
      "text/plain": [
       "array([[1, 1],\n",
       "       [2, 2],\n",
       "       [0, 0],\n",
       "       [0, 0],\n",
       "       [0, 0],\n",
       "       [2, 1],\n",
       "       [0, 0],\n",
       "       [0, 0],\n",
       "       [0, 0],\n",
       "       [2, 2],\n",
       "       [2, 2],\n",
       "       [1, 1],\n",
       "       [1, 1],\n",
       "       [1, 1],\n",
       "       [2, 2],\n",
       "       [2, 2],\n",
       "       [1, 1],\n",
       "       [0, 0],\n",
       "       [1, 1],\n",
       "       [1, 1],\n",
       "       [0, 0],\n",
       "       [0, 0],\n",
       "       [1, 1],\n",
       "       [1, 1],\n",
       "       [0, 0],\n",
       "       [0, 0],\n",
       "       [0, 0],\n",
       "       [1, 1],\n",
       "       [0, 0],\n",
       "       [1, 1],\n",
       "       [0, 0],\n",
       "       [1, 1],\n",
       "       [0, 0],\n",
       "       [1, 1],\n",
       "       [1, 1],\n",
       "       [2, 2],\n",
       "       [2, 2],\n",
       "       [2, 2]])"
      ]
     },
     "execution_count": 50,
     "metadata": {},
     "output_type": "execute_result"
    }
   ],
   "source": [
    "data = []\n",
    "\n",
    "for i in range(len(vote_data)):   \n",
    "    values, votes = np.unique(vote_data[i], return_counts=True)\n",
    "    index_winner = votes.argmax()\n",
    "    data.append(values[index_winner])\n",
    "data = np.array(data)\n",
    "np.concatenate((data.reshape(len(data), 1), y_test), axis =1)"
   ]
  },
  {
   "cell_type": "code",
   "execution_count": 51,
   "metadata": {},
   "outputs": [
    {
     "data": {
      "text/plain": [
       "array([[15,  0,  0],\n",
       "       [ 0, 14,  1],\n",
       "       [ 0,  0,  8]], dtype=int64)"
      ]
     },
     "execution_count": 51,
     "metadata": {},
     "output_type": "execute_result"
    }
   ],
   "source": [
    "cm = confusion_matrix(y_test , data)\n",
    "cm"
   ]
  },
  {
   "cell_type": "code",
   "execution_count": 52,
   "metadata": {},
   "outputs": [
    {
     "data": {
      "text/plain": [
       "0.9736842105263158"
      ]
     },
     "execution_count": 52,
     "metadata": {},
     "output_type": "execute_result"
    }
   ],
   "source": [
    "actual = 0\n",
    "total = 0\n",
    "\n",
    "for i in range(len(cm)):\n",
    "    for j in range(len(cm[i])):\n",
    "        if i == j:\n",
    "            actual = cm[i][j] + actual\n",
    "        total = cm[i][j] + total\n",
    "actual / total\n"
   ]
  },
  {
   "cell_type": "code",
   "execution_count": 53,
   "metadata": {},
   "outputs": [
    {
     "data": {
      "image/png": "[encoded data removed]",
      "text/plain": [
       "<Figure size 432x288 with 2 Axes>"
      ]
     },
     "metadata": {
      "needs_background": "light"
     },
     "output_type": "display_data"
    }
   ],
   "source": [
    "y_axis_labels = iris[\"target_names\"]\n",
    "x_axis_labels = ['setosa_pred', 'versicolor_pred', 'virginica_pred']\n",
    "cm = confusion_matrix(y_test , data)\n",
    "f = sns.heatmap(cm, annot=True,  xticklabels=x_axis_labels, yticklabels=y_axis_labels)"
   ]
  },
  {
   "cell_type": "code",
   "execution_count": 54,
   "metadata": {},
   "outputs": [
    {
     "name": "stdout",
     "output_type": "stream",
     "text": [
      "              precision    recall  f1-score   support\n",
      "\n",
      "      setosa       1.00      1.00      1.00        15\n",
      "  versicolor       1.00      0.93      0.97        15\n",
      "   virginica       0.89      1.00      0.94         8\n",
      "\n",
      "    accuracy                           0.97        38\n",
      "   macro avg       0.96      0.98      0.97        38\n",
      "weighted avg       0.98      0.97      0.97        38\n",
      "\n"
     ]
    }
   ],
   "source": [
    "print(classification_report(y_test, data, target_names= iris[\"target_names\"]))"
   ]
  },
  {
   "cell_type": "code",
   "execution_count": null,
   "metadata": {},
   "outputs": [],
   "source": []
  }
 ],
 "metadata": {
  "kernelspec": {
   "display_name": "Python 3",
   "language": "python",
   "name": "python3"
  },
  "language_info": {
   "codemirror_mode": {
    "name": "ipython",
    "version": 3
   },
   "file_extension": ".py",
   "mimetype": "text/x-python",
   "name": "python",
   "nbconvert_exporter": "python",
   "pygments_lexer": "ipython3",
   "version": "3.8.5"
  },
  "metadata": {
   "interpreter": {
    "hash": "38f79fadc0c6717ea4a008b057f37067dd9b409fcdcbbd28252f8fecfca32678"
   }
  }
 },
 "nbformat": 4,
 "nbformat_minor": 2
}
