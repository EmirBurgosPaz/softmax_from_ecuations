{
 "cells": [
  {
   "cell_type": "markdown",
   "metadata": {},
   "source": [
    "# Softmax"
   ]
  },
  {
   "cell_type": "code",
   "execution_count": 1,
   "metadata": {},
   "outputs": [],
   "source": [
    "import numpy as np\n",
    "import matplotlib.pyplot as plt\n",
    "from sklearn.model_selection import train_test_split\n",
    "from sklearn import datasets\n",
    "from sklearn.metrics import confusion_matrix\n",
    "from sklearn.metrics import classification_report\n",
    "import seaborn as sns"
   ]
  },
  {
   "cell_type": "markdown",
   "metadata": {},
   "source": [
    "# Funciones"
   ]
  },
  {
   "cell_type": "markdown",
   "metadata": {},
   "source": [
    "# Funciones de Softmax Regression\n",
    "\n",
    "## Softmax\n",
    "\n",
    "$$ \\phi_{softmax}(z^{i}) = \\frac{\\exp^{z^{(i)}}}{\\sum^{k}_{j=0} \\exp^{z^{(i)}_{k}} } $$\n",
    "\n",
    "## Costo\n",
    "\n",
    "$$J(W) = \\frac{1}{n}\\sum^{n}_{i=0} H(T_i ,O_i)$$\n",
    "\n",
    "## Cross entropy\n",
    "\n",
    "$$ H(T_i ,O_i) = - \\sum_m T_i * log(O_i)$$\n",
    "\n",
    "## Gradiente\n",
    "\n",
    "$$\\nabla{w_{j}} J(W) = - \\frac{1}{n} \\sum^{n}_{i=0} [x^{(i)}(T_i  - O_i)] $$\n"
   ]
  },
  {
   "cell_type": "code",
   "execution_count": 2,
   "metadata": {},
   "outputs": [],
   "source": [
    "def predict(x, w):\n",
    "    return (np.dot(x,w))"
   ]
  },
  {
   "cell_type": "code",
   "execution_count": 3,
   "metadata": {},
   "outputs": [],
   "source": [
    "def softmax(z):\n",
    "    return (np.exp(z.T) / np.sum(np.exp(z), axis=1)).T"
   ]
  },
  {
   "cell_type": "code",
   "execution_count": 4,
   "metadata": {},
   "outputs": [],
   "source": [
    "def label_predictions(vect_inputs):\n",
    "    return vect_inputs.argmax(axis=1)"
   ]
  },
  {
   "cell_type": "code",
   "execution_count": 5,
   "metadata": {},
   "outputs": [],
   "source": [
    "def cross_entropy(output, y_target):\n",
    "    return - np.sum(np.log(output) * (y_target), axis=1)"
   ]
  },
  {
   "cell_type": "code",
   "execution_count": 6,
   "metadata": {},
   "outputs": [],
   "source": [
    "def cost(output, y_target):\n",
    "    return np.mean(cross_entropy(output, y_target))"
   ]
  },
  {
   "cell_type": "code",
   "execution_count": 7,
   "metadata": {},
   "outputs": [],
   "source": [
    "def optimizar(x_train, smax, y_enc):\n",
    "    return - np.dot(x_train.T, (y_enc - smax))"
   ]
  },
  {
   "cell_type": "code",
   "execution_count": 8,
   "metadata": {},
   "outputs": [],
   "source": [
    "iris = datasets.load_iris()"
   ]
  },
  {
   "cell_type": "code",
   "execution_count": 9,
   "metadata": {},
   "outputs": [],
   "source": [
    "x = iris[\"data\"][::]\n",
    "y = (iris[\"target\"]).astype(np.int32).reshape(len(iris['target']),1)"
   ]
  },
  {
   "cell_type": "code",
   "execution_count": 10,
   "metadata": {},
   "outputs": [],
   "source": [
    "for i in range(x.shape[1]):\n",
    "    mean = x[:,i].mean()\n",
    "    deviation =  x[:,i].std()\n",
    "    x[:,i] = (x[:,i] - mean) / deviation"
   ]
  },
  {
   "cell_type": "markdown",
   "metadata": {},
   "source": [
    "# Implementacion del modelo"
   ]
  },
  {
   "cell_type": "code",
   "execution_count": 11,
   "metadata": {},
   "outputs": [],
   "source": [
    "x_train, x_test, y_train, y_test = train_test_split(x, y)"
   ]
  },
  {
   "cell_type": "code",
   "execution_count": 12,
   "metadata": {},
   "outputs": [],
   "source": [
    "x_train = np.c_[np.ones((len(x_train),1)), x_train]\n",
    "x_test = np.c_[np.ones((len(x_test),1)), x_test]"
   ]
  },
  {
   "cell_type": "code",
   "execution_count": 13,
   "metadata": {},
   "outputs": [
    {
     "data": {
      "text/plain": [
       "5"
      ]
     },
     "execution_count": 13,
     "metadata": {},
     "output_type": "execute_result"
    }
   ],
   "source": [
    "x_train.shape[1]"
   ]
  },
  {
   "cell_type": "code",
   "execution_count": 14,
   "metadata": {},
   "outputs": [
    {
     "data": {
      "text/plain": [
       "array([[1., 0., 0.],\n",
       "       [1., 0., 0.],\n",
       "       [1., 0., 0.],\n",
       "       [0., 1., 0.],\n",
       "       [0., 0., 1.],\n",
       "       [0., 0., 1.],\n",
       "       [0., 1., 0.],\n",
       "       [1., 0., 0.],\n",
       "       [0., 1., 0.],\n",
       "       [0., 0., 1.]])"
      ]
     },
     "execution_count": 14,
     "metadata": {},
     "output_type": "execute_result"
    }
   ],
   "source": [
    "y_enc = (np.arange(np.max(y_train.flatten()) + 1) == y_train.flatten()[:, None]).astype(float)\n",
    "\n",
    "y_enc[:10]"
   ]
  },
  {
   "cell_type": "code",
   "execution_count": 15,
   "metadata": {},
   "outputs": [
    {
     "data": {
      "text/plain": [
       "(112, 5)"
      ]
     },
     "execution_count": 15,
     "metadata": {},
     "output_type": "execute_result"
    }
   ],
   "source": [
    "x_train.shape"
   ]
  },
  {
   "cell_type": "code",
   "execution_count": 16,
   "metadata": {
    "tags": []
   },
   "outputs": [
    {
     "data": {
      "text/plain": [
       "array([[ 0.18901175,  6.39463136, -4.33863799],\n",
       "       [-2.12522116,  2.05788564,  0.98675404],\n",
       "       [ 3.24732259,  0.29597574, -1.83611169],\n",
       "       [-4.56649446, -0.5274887 ,  6.17571405],\n",
       "       [-4.29238767, -2.08802492,  7.21497399]])"
      ]
     },
     "execution_count": 16,
     "metadata": {},
     "output_type": "execute_result"
    }
   ],
   "source": [
    "theta_set = np.random.rand(1,x_train.shape[1])\n",
    "theta_ver = np.random.rand(1,x_train.shape[1])    \n",
    "theta_vir = np.random.rand(1,x_train.shape[1])\n",
    "theta_all = np.concatenate((theta_set,theta_ver,theta_vir)).reshape(x_train.shape[1],3)\n",
    "\n",
    "\n",
    "eta = 0.001\n",
    "max_iter = 20000\n",
    "cost_smax = []\n",
    "for i in range(0, max_iter):\n",
    "    vector_pos_train = predict(x_train, theta_all)\n",
    "    \n",
    "    smax = softmax(vector_pos_train)\n",
    "    theta_all =  theta_all - eta*(optimizar(x_train, smax, y_enc))\n",
    "    J_cost = cost(smax, y_enc)\n",
    "    cost_smax.append(J_cost)\n",
    "\n",
    "theta_all"
   ]
  },
  {
   "cell_type": "code",
   "execution_count": 17,
   "metadata": {},
   "outputs": [
    {
     "data": {
      "image/png": "[encoded data removed]",
      "text/plain": [
       "<Figure size 432x288 with 1 Axes>"
      ]
     },
     "metadata": {
      "needs_background": "light"
     },
     "output_type": "display_data"
    }
   ],
   "source": [
    "plt.plot(np.arange(max_iter), cost_smax, \"b-\")\n",
    "plt.xlabel(\"$iteraciones$\", fontsize=18)\n",
    "plt.ylabel(r\"$J(\\theta)$\", fontsize=18)\n",
    "plt.grid(True)\n",
    "plt.show()"
   ]
  },
  {
   "cell_type": "code",
   "execution_count": 18,
   "metadata": {},
   "outputs": [
    {
     "data": {
      "text/plain": [
       "array([0, 2, 2, 1, 2, 0, 0, 2, 1, 0, 0, 1, 2, 1, 2, 2, 0, 1, 1, 1, 2, 2,\n",
       "       1, 2, 0, 0, 2, 2, 2, 0, 1, 2, 1, 1, 2, 2, 2, 1], dtype=int64)"
      ]
     },
     "execution_count": 18,
     "metadata": {},
     "output_type": "execute_result"
    }
   ],
   "source": [
    "vector_pos_test = predict(x_test, theta_all)\n",
    "    \n",
    "smax_pred = softmax(vector_pos_test)\n",
    "\n",
    "y_pred = label_predictions(smax_pred)\n",
    "\n",
    "y_pred"
   ]
  },
  {
   "cell_type": "code",
   "execution_count": 19,
   "metadata": {},
   "outputs": [
    {
     "data": {
      "text/plain": [
       "array([[ 9,  0,  0],\n",
       "       [ 0, 12,  0],\n",
       "       [ 0,  0, 17]], dtype=int64)"
      ]
     },
     "execution_count": 19,
     "metadata": {},
     "output_type": "execute_result"
    }
   ],
   "source": [
    "cm = confusion_matrix(y_test, y_pred)\n",
    "cm"
   ]
  },
  {
   "cell_type": "code",
   "execution_count": 20,
   "metadata": {},
   "outputs": [
    {
     "data": {
      "text/plain": [
       "1.0"
      ]
     },
     "execution_count": 20,
     "metadata": {},
     "output_type": "execute_result"
    }
   ],
   "source": [
    "actual = 0\n",
    "total = 0\n",
    "\n",
    "for i in range(len(cm)):\n",
    "    for j in range(len(cm[i])):\n",
    "        if i == j:\n",
    "            actual = cm[i][j] + actual\n",
    "        total = cm[i][j] + total\n",
    "actual / total"
   ]
  },
  {
   "cell_type": "code",
   "execution_count": 21,
   "metadata": {},
   "outputs": [
    {
     "data": {
      "image/png": "[encoded data removed]",
      "text/plain": [
       "<Figure size 432x288 with 2 Axes>"
      ]
     },
     "metadata": {
      "needs_background": "light"
     },
     "output_type": "display_data"
    }
   ],
   "source": [
    "y_axis_labels = iris[\"target_names\"]\n",
    "x_axis_labels = ['setosa_pred', 'versicolor_pred', 'virginica_pred']\n",
    "f = sns.heatmap(cm, annot=True, xticklabels=x_axis_labels, yticklabels=y_axis_labels)"
   ]
  },
  {
   "cell_type": "code",
   "execution_count": 22,
   "metadata": {},
   "outputs": [
    {
     "data": {
      "text/plain": [
       "array(['setosa', 'versicolor', 'virginica'], dtype='<U10')"
      ]
     },
     "execution_count": 22,
     "metadata": {},
     "output_type": "execute_result"
    }
   ],
   "source": [
    "iris[\"target_names\"]"
   ]
  },
  {
   "cell_type": "code",
   "execution_count": 23,
   "metadata": {},
   "outputs": [
    {
     "name": "stdout",
     "output_type": "stream",
     "text": [
      "              precision    recall  f1-score   support\n",
      "\n",
      "      setosa       1.00      1.00      1.00         9\n",
      "  versicolor       1.00      1.00      1.00        12\n",
      "   virginica       1.00      1.00      1.00        17\n",
      "\n",
      "    accuracy                           1.00        38\n",
      "   macro avg       1.00      1.00      1.00        38\n",
      "weighted avg       1.00      1.00      1.00        38\n",
      "\n"
     ]
    }
   ],
   "source": [
    "print(classification_report(y_test,  y_pred, target_names= iris[\"target_names\"]))"
   ]
  },
  {
   "cell_type": "code",
   "execution_count": null,
   "metadata": {},
   "outputs": [],
   "source": []
  }
 ],
 "metadata": {
  "kernelspec": {
   "display_name": "Python 3",
   "language": "python",
   "name": "python3"
  },
  "language_info": {
   "codemirror_mode": {
    "name": "ipython",
    "version": 3
   },
   "file_extension": ".py",
   "mimetype": "text/x-python",
   "name": "python",
   "nbconvert_exporter": "python",
   "pygments_lexer": "ipython3",
   "version": "3.8.5"
  },
  "metadata": {
   "interpreter": {
    "hash": "38f79fadc0c6717ea4a008b057f37067dd9b409fcdcbbd28252f8fecfca32678"
   }
  }
 },
 "nbformat": 4,
 "nbformat_minor": 2
}
