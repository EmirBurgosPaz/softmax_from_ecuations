{
 "cells": [
  {
   "cell_type": "markdown",
   "metadata": {},
   "source": [
    "# One vs rest"
   ]
  },
  {
   "cell_type": "markdown",
   "metadata": {},
   "source": [
    "# Algunas librerías que se usan en la implementación de One vs Rest"
   ]
  },
  {
   "cell_type": "code",
   "execution_count": 1,
   "metadata": {},
   "outputs": [],
   "source": [
    "import numpy as np\n",
    "import matplotlib.pyplot as plt\n",
    "from sklearn.model_selection import train_test_split\n",
    "from sklearn import datasets\n",
    "from sklearn.metrics import confusion_matrix\n",
    "from sklearn.metrics import classification_report\n",
    "import seaborn as sns"
   ]
  },
  {
   "cell_type": "markdown",
   "metadata": {},
   "source": [
    "# Funciones  específicas que se usan para aumentar la legibilidad de los codigos"
   ]
  },
  {
   "cell_type": "code",
   "execution_count": 2,
   "metadata": {},
   "outputs": [],
   "source": [
    "def sigmoid(z):\n",
    "    return 1/(1+np.exp(-z))"
   ]
  },
  {
   "cell_type": "code",
   "execution_count": 3,
   "metadata": {},
   "outputs": [],
   "source": [
    "def optimizar(theta, x_train, y_train):\n",
    "    sigma = sigmoid(x_train@theta)\n",
    "    theta = (1/m)*(x_train.T @ (sigma-y_train))\n",
    "    return theta"
   ]
  },
  {
   "cell_type": "code",
   "execution_count": 4,
   "metadata": {},
   "outputs": [],
   "source": [
    "def costo(theta, x_train, y_train):\n",
    "    sigma = sigmoid(x_train@theta)\n",
    "    error = (y_train*np.log(sigma) + (1-y_train)*np.log(1-sigma))\n",
    "    return np.sum(error, axis= 0)"
   ]
  },
  {
   "cell_type": "markdown",
   "metadata": {},
   "source": [
    "## Usando sklearn se carga el dataset de iris"
   ]
  },
  {
   "cell_type": "code",
   "execution_count": 5,
   "metadata": {},
   "outputs": [],
   "source": [
    "iris = datasets.load_iris()"
   ]
  },
  {
   "cell_type": "markdown",
   "metadata": {},
   "source": [
    "Este dataset esta formado por las siguientes partes:\n",
    "<center>\n",
    "\n",
    "| Entradas          | Salidas    |\n",
    "|-------------------|------------|\n",
    "| sepal length (cm) | setosa     |\n",
    "| sepal length (cm) | versicolor |\n",
    "| petal length (cm) | virginica  |\n",
    "| petal width (cm)  |            |\n",
    "\n",
    "</center>\n",
    "\n",
    "En total cada característica esta formada por 150 datos, y estos son clasificados en 3 salidas, las cuales estan presentadas por los numeros 0,1,2"
   ]
  },
  {
   "cell_type": "markdown",
   "metadata": {},
   "source": [
    "Se cargan los datos en dos variables una de entradas y otra de salidas"
   ]
  },
  {
   "cell_type": "code",
   "execution_count": 6,
   "metadata": {},
   "outputs": [],
   "source": [
    "x = iris[\"data\"][::]\n",
    "y = (iris[\"target\"]).astype(np.int32).reshape(len(iris['target']),1)"
   ]
  },
  {
   "cell_type": "markdown",
   "metadata": {},
   "source": [
    "Luego se nestandarizan los datos con respecto a la formula:\n",
    "\n",
    "$$x = \\frac{x_i + \\mu}{\\sigma}$$\n"
   ]
  },
  {
   "cell_type": "code",
   "execution_count": 7,
   "metadata": {},
   "outputs": [],
   "source": [
    "\n",
    "for i in range(x.shape[1]):\n",
    "    mean = x[:,i].mean()\n",
    "    deviation =  x[:,i].std()\n",
    "    x[:,i] = (x[:,i] - mean) / deviation"
   ]
  },
  {
   "cell_type": "markdown",
   "metadata": {},
   "source": [
    "Aprovechando la implementación de división de datos y su randomización de sklearn, se dividen y se randomizan los datos por sklearn"
   ]
  },
  {
   "cell_type": "code",
   "execution_count": 8,
   "metadata": {},
   "outputs": [],
   "source": [
    "x_train, x_test, y_train, y_test = train_test_split(x, y)"
   ]
  },
  {
   "cell_type": "markdown",
   "metadata": {},
   "source": [
    "Finalmente se agrega un columna de unos al sistema, para generar una interseccion al momento de crear las predicciones en el caso  $x_i = 0$ "
   ]
  },
  {
   "cell_type": "code",
   "execution_count": 9,
   "metadata": {},
   "outputs": [],
   "source": [
    "x_train = np.c_[np.ones((len(x_train),1)), x_train]\n",
    "x_test = np.c_[np.ones((len(x_test),1)), x_test]"
   ]
  },
  {
   "cell_type": "markdown",
   "metadata": {},
   "source": [
    "# Método de One vs rest"
   ]
  },
  {
   "cell_type": "markdown",
   "metadata": {},
   "source": [
    "El one vs rest esta formado por la comparación de las características, donde se comparan una de las caracteristicas vs las otras por ejemplo, si tenemos tres clases rojo, amarillo y azul, el primer caso se podria poner como:\n",
    "\n",
    "\n",
    "$$ [Rojo]  vs [Azul, Amarillo] $$\n",
    "\n",
    "\n",
    "En nuestro caso para este dataset se tendrian que comparar las tres salidas, de la siguiente manera:\n",
    "\n",
    "\n",
    "$$ [setosa]  vs [versicolor, virginica] $$\n",
    "\n",
    "$$ [versicolor]  vs [setosa, virginica ] $$\n",
    "\n",
    "$$ [virginica]  vs [setosa, versicolor] $$\n"
   ]
  },
  {
   "cell_type": "markdown",
   "metadata": {},
   "source": [
    "# $$ [setosa]  vs [versicolor, virginica] $$"
   ]
  },
  {
   "cell_type": "code",
   "execution_count": 10,
   "metadata": {},
   "outputs": [
    {
     "data": {
      "text/plain": [
       "array([[0.09866789],\n",
       "       [0.85216227],\n",
       "       [0.3850056 ],\n",
       "       [0.93694234],\n",
       "       [0.00200171]])"
      ]
     },
     "execution_count": 10,
     "metadata": {},
     "output_type": "execute_result"
    }
   ],
   "source": [
    "theta_setosa = np.random.rand(x_train.shape[1]).reshape(x_train.shape[1],1)\n",
    "theta_setosa"
   ]
  },
  {
   "cell_type": "code",
   "execution_count": 11,
   "metadata": {},
   "outputs": [
    {
     "data": {
      "text/plain": [
       "array([[-5.00721391],\n",
       "       [-2.18488462],\n",
       "       [ 3.2663846 ],\n",
       "       [-4.42020394],\n",
       "       [-4.81060728]])"
      ]
     },
     "execution_count": 11,
     "metadata": {},
     "output_type": "execute_result"
    }
   ],
   "source": [
    "eta = 0.8\n",
    "n_iter = 10000\n",
    "\n",
    "J_set = np.zeros(n_iter)\n",
    "m = len(x_train)\n",
    "y_train_set = (y_train == 0).astype(int)\n",
    "for i in range(n_iter):\n",
    "    J_set[i] = -(1/m)*costo(theta_setosa, x_train, y_train_set)\n",
    "    theta_setosa = theta_setosa - eta * optimizar(theta_setosa, x_train, y_train_set)\n",
    "theta_setosa"
   ]
  },
  {
   "cell_type": "code",
   "execution_count": 12,
   "metadata": {},
   "outputs": [
    {
     "data": {
      "image/png": "[encoded data removed]",
      "text/plain": [
       "<Figure size 432x288 with 1 Axes>"
      ]
     },
     "metadata": {
      "needs_background": "light"
     },
     "output_type": "display_data"
    }
   ],
   "source": [
    "plt.plot(np.arange(n_iter), J_set, \"b-\")\n",
    "plt.xlabel(\"$iteraciones$\", fontsize=18)\n",
    "plt.ylabel(r\"$J(\\theta)$\", fontsize=18)\n",
    "plt.grid(True)\n",
    "plt.show()"
   ]
  },
  {
   "cell_type": "code",
   "execution_count": 13,
   "metadata": {},
   "outputs": [
    {
     "data": {
      "text/plain": [
       "array([[1.  , 0.  , 0.  , 0.  , 0.  , 0.  , 0.  , 0.  , 0.  , 0.  , 1.  ,\n",
       "        0.  , 0.  , 0.  , 1.  , 0.  , 1.  , 0.  , 0.01, 1.  , 0.  , 0.  ,\n",
       "        0.  , 1.  , 0.  , 0.  , 1.  , 0.  , 0.  , 0.  , 1.  , 0.  , 0.  ,\n",
       "        1.  , 0.  , 1.  , 1.  , 0.  ]])"
      ]
     },
     "execution_count": 13,
     "metadata": {},
     "output_type": "execute_result"
    }
   ],
   "source": [
    "y_proba_set =np.round(sigmoid(theta_setosa.T @ x_test.T),2)\n",
    "y_proba_set"
   ]
  },
  {
   "cell_type": "markdown",
   "metadata": {},
   "source": [
    "# $$ [versicolor]  vs [setosa, virginica ] $$\n",
    "\n"
   ]
  },
  {
   "cell_type": "code",
   "execution_count": 14,
   "metadata": {},
   "outputs": [
    {
     "data": {
      "text/plain": [
       "array([[1.99530306e-04],\n",
       "       [2.49298194e-01],\n",
       "       [6.41835136e-01],\n",
       "       [8.31135882e-01],\n",
       "       [9.50242934e-01]])"
      ]
     },
     "execution_count": 14,
     "metadata": {},
     "output_type": "execute_result"
    }
   ],
   "source": [
    "theta_versicolor = np.random.rand(x_train.shape[1]).reshape(x_train.shape[1],1)\n",
    "theta_versicolor"
   ]
  },
  {
   "cell_type": "code",
   "execution_count": 15,
   "metadata": {},
   "outputs": [
    {
     "data": {
      "text/plain": [
       "array([[-1.15654384],\n",
       "       [-0.00427022],\n",
       "       [-1.22954883],\n",
       "       [ 2.47494575],\n",
       "       [-2.55947747]])"
      ]
     },
     "execution_count": 15,
     "metadata": {},
     "output_type": "execute_result"
    }
   ],
   "source": [
    "eta = 0.8\n",
    "n_iter = 10000\n",
    "\n",
    "J_vers = np.zeros(n_iter)\n",
    "\n",
    "y_train_ver = (y_train == 1).astype(int)\n",
    "for i in range(n_iter):\n",
    "    J_vers[i] = -(1/m)*costo(theta_versicolor, x_train, y_train_ver)\n",
    "    theta_versicolor = theta_versicolor - eta * optimizar(theta_versicolor, x_train, y_train_ver)\n",
    "theta_versicolor"
   ]
  },
  {
   "cell_type": "code",
   "execution_count": 16,
   "metadata": {},
   "outputs": [
    {
     "data": {
      "image/png": "[encoded data removed]",
      "text/plain": [
       "<Figure size 432x288 with 1 Axes>"
      ]
     },
     "metadata": {
      "needs_background": "light"
     },
     "output_type": "display_data"
    }
   ],
   "source": [
    "plt.plot(np.arange(n_iter), J_vers, \"b-\")\n",
    "plt.xlabel(\"$iteraciones$\", fontsize=18)\n",
    "plt.ylabel(r\"$J(\\theta)$\", fontsize=18)\n",
    "plt.grid(True)\n",
    "plt.show()"
   ]
  },
  {
   "cell_type": "code",
   "execution_count": 17,
   "metadata": {},
   "outputs": [
    {
     "data": {
      "text/plain": [
       "array([[0.03, 0.39, 0.36, 0.82, 0.75, 0.6 , 0.28, 0.26, 0.27, 0.2 , 0.14,\n",
       "        0.26, 0.63, 0.89, 0.07, 0.2 , 0.03, 0.28, 0.68, 0.28, 0.6 , 0.9 ,\n",
       "        0.11, 0.34, 0.22, 0.35, 0.25, 0.73, 0.17, 0.79, 0.  , 0.71, 0.16,\n",
       "        0.07, 0.06, 0.14, 0.14, 0.09]])"
      ]
     },
     "execution_count": 17,
     "metadata": {},
     "output_type": "execute_result"
    }
   ],
   "source": [
    "y_proba_ver =np.round(sigmoid(theta_versicolor.T @ x_test.T),2)\n",
    "y_proba_ver"
   ]
  },
  {
   "cell_type": "markdown",
   "metadata": {},
   "source": [
    "# $$ [virginica]  vs [setosa, versicolor] $$"
   ]
  },
  {
   "cell_type": "code",
   "execution_count": 18,
   "metadata": {},
   "outputs": [
    {
     "data": {
      "text/plain": [
       "array([[0.06478177],\n",
       "       [0.124318  ],\n",
       "       [0.06672724],\n",
       "       [0.78723296],\n",
       "       [0.41877968]])"
      ]
     },
     "execution_count": 18,
     "metadata": {},
     "output_type": "execute_result"
    }
   ],
   "source": [
    "theta_virginica = np.random.rand(x_train.shape[1]).reshape(x_train.shape[1],1)\n",
    "theta_virginica"
   ]
  },
  {
   "cell_type": "code",
   "execution_count": 19,
   "metadata": {},
   "outputs": [
    {
     "data": {
      "text/plain": [
       "array([[-12.55403076],\n",
       "       [ -4.92329314],\n",
       "       [ -1.19868064],\n",
       "       [ 14.20265769],\n",
       "       [  9.52710957]])"
      ]
     },
     "execution_count": 19,
     "metadata": {},
     "output_type": "execute_result"
    }
   ],
   "source": [
    "eta = 0.8\n",
    "n_iter = 10000\n",
    "\n",
    "J_vir = np.zeros(n_iter)\n",
    "\n",
    "y_train_vir = (y_train == 2).astype(int)\n",
    "for i in range(n_iter):\n",
    "    J_vir[i] = -(1/m)*costo(theta_virginica, x_train, y_train_vir)\n",
    "    theta_virginica = theta_virginica - eta * optimizar(theta_virginica, x_train, y_train_vir)\n",
    "theta_virginica"
   ]
  },
  {
   "cell_type": "code",
   "execution_count": 20,
   "metadata": {},
   "outputs": [
    {
     "data": {
      "image/png": "[encoded data removed]",
      "text/plain": [
       "<Figure size 432x288 with 1 Axes>"
      ]
     },
     "metadata": {
      "needs_background": "light"
     },
     "output_type": "display_data"
    }
   ],
   "source": [
    "plt.plot(np.arange(n_iter), J_vir, \"b-\")\n",
    "plt.xlabel(\"$iteraciones$\", fontsize=18)\n",
    "plt.ylabel(r\"$J(\\theta)$\", fontsize=18)\n",
    "plt.grid(True)\n",
    "plt.show()"
   ]
  },
  {
   "cell_type": "code",
   "execution_count": 21,
   "metadata": {},
   "outputs": [
    {
     "data": {
      "text/plain": [
       "array([[0.  , 0.  , 0.92, 0.  , 0.  , 0.97, 0.5 , 1.  , 0.  , 0.  , 0.  ,\n",
       "        0.  , 0.73, 0.99, 0.  , 0.94, 0.  , 0.23, 0.  , 0.  , 0.  , 0.  ,\n",
       "        0.93, 0.  , 0.  , 1.  , 0.  , 0.  , 0.93, 0.07, 0.  , 0.  , 1.  ,\n",
       "        0.  , 1.  , 0.  , 0.  , 0.98]])"
      ]
     },
     "execution_count": 21,
     "metadata": {},
     "output_type": "execute_result"
    }
   ],
   "source": [
    "y_proba_vir = np.round(sigmoid(theta_virginica.T @ x_test.T),2)\n",
    "y_proba_vir"
   ]
  },
  {
   "cell_type": "code",
   "execution_count": 22,
   "metadata": {},
   "outputs": [
    {
     "data": {
      "text/plain": [
       "array([[1.  , 0.03, 0.  ],\n",
       "       [0.  , 0.39, 0.  ],\n",
       "       [0.  , 0.36, 0.92],\n",
       "       [0.  , 0.82, 0.  ],\n",
       "       [0.  , 0.75, 0.  ],\n",
       "       [0.  , 0.6 , 0.97],\n",
       "       [0.  , 0.28, 0.5 ],\n",
       "       [0.  , 0.26, 1.  ],\n",
       "       [0.  , 0.27, 0.  ],\n",
       "       [0.  , 0.2 , 0.  ],\n",
       "       [1.  , 0.14, 0.  ],\n",
       "       [0.  , 0.26, 0.  ],\n",
       "       [0.  , 0.63, 0.73],\n",
       "       [0.  , 0.89, 0.99],\n",
       "       [1.  , 0.07, 0.  ],\n",
       "       [0.  , 0.2 , 0.94],\n",
       "       [1.  , 0.03, 0.  ],\n",
       "       [0.  , 0.28, 0.23],\n",
       "       [0.01, 0.68, 0.  ],\n",
       "       [1.  , 0.28, 0.  ],\n",
       "       [0.  , 0.6 , 0.  ],\n",
       "       [0.  , 0.9 , 0.  ],\n",
       "       [0.  , 0.11, 0.93],\n",
       "       [1.  , 0.34, 0.  ],\n",
       "       [0.  , 0.22, 0.  ],\n",
       "       [0.  , 0.35, 1.  ],\n",
       "       [1.  , 0.25, 0.  ],\n",
       "       [0.  , 0.73, 0.  ],\n",
       "       [0.  , 0.17, 0.93],\n",
       "       [0.  , 0.79, 0.07],\n",
       "       [1.  , 0.  , 0.  ],\n",
       "       [0.  , 0.71, 0.  ],\n",
       "       [0.  , 0.16, 1.  ],\n",
       "       [1.  , 0.07, 0.  ],\n",
       "       [0.  , 0.06, 1.  ],\n",
       "       [1.  , 0.14, 0.  ],\n",
       "       [1.  , 0.14, 0.  ],\n",
       "       [0.  , 0.09, 0.98]])"
      ]
     },
     "execution_count": 22,
     "metadata": {},
     "output_type": "execute_result"
    }
   ],
   "source": [
    "compar = np.concatenate((y_proba_set, y_proba_ver, y_proba_vir), axis =0).T\n",
    "compar"
   ]
  },
  {
   "cell_type": "code",
   "execution_count": 23,
   "metadata": {},
   "outputs": [],
   "source": [
    "\n",
    "prediction_final = []\n",
    "for i in range(len(compar)):\n",
    "    #print(compar[i])\n",
    "    index_value = compar[i].argmax()\n",
    "    prediction_final.append(index_value)\n",
    "prediction_final = np.array(prediction_final).reshape(1, len(prediction_final))\n"
   ]
  },
  {
   "cell_type": "code",
   "execution_count": 24,
   "metadata": {},
   "outputs": [
    {
     "data": {
      "text/plain": [
       "array([[1.  , 0.03, 0.  , 0.  , 0.  ],\n",
       "       [0.  , 0.39, 0.  , 1.  , 1.  ],\n",
       "       [0.  , 0.36, 0.92, 2.  , 2.  ],\n",
       "       [0.  , 0.82, 0.  , 1.  , 1.  ],\n",
       "       [0.  , 0.75, 0.  , 1.  , 1.  ],\n",
       "       [0.  , 0.6 , 0.97, 2.  , 1.  ],\n",
       "       [0.  , 0.28, 0.5 , 2.  , 1.  ],\n",
       "       [0.  , 0.26, 1.  , 2.  , 2.  ],\n",
       "       [0.  , 0.27, 0.  , 1.  , 1.  ],\n",
       "       [0.  , 0.2 , 0.  , 1.  , 1.  ],\n",
       "       [1.  , 0.14, 0.  , 0.  , 0.  ],\n",
       "       [0.  , 0.26, 0.  , 1.  , 1.  ],\n",
       "       [0.  , 0.63, 0.73, 2.  , 2.  ],\n",
       "       [0.  , 0.89, 0.99, 2.  , 2.  ],\n",
       "       [1.  , 0.07, 0.  , 0.  , 0.  ],\n",
       "       [0.  , 0.2 , 0.94, 2.  , 2.  ],\n",
       "       [1.  , 0.03, 0.  , 0.  , 0.  ],\n",
       "       [0.  , 0.28, 0.23, 1.  , 1.  ],\n",
       "       [0.01, 0.68, 0.  , 1.  , 1.  ],\n",
       "       [1.  , 0.28, 0.  , 0.  , 0.  ],\n",
       "       [0.  , 0.6 , 0.  , 1.  , 1.  ],\n",
       "       [0.  , 0.9 , 0.  , 1.  , 1.  ],\n",
       "       [0.  , 0.11, 0.93, 2.  , 1.  ],\n",
       "       [1.  , 0.34, 0.  , 0.  , 0.  ],\n",
       "       [0.  , 0.22, 0.  , 1.  , 1.  ],\n",
       "       [0.  , 0.35, 1.  , 2.  , 2.  ],\n",
       "       [1.  , 0.25, 0.  , 0.  , 0.  ],\n",
       "       [0.  , 0.73, 0.  , 1.  , 1.  ],\n",
       "       [0.  , 0.17, 0.93, 2.  , 2.  ],\n",
       "       [0.  , 0.79, 0.07, 1.  , 1.  ],\n",
       "       [1.  , 0.  , 0.  , 0.  , 0.  ],\n",
       "       [0.  , 0.71, 0.  , 1.  , 1.  ],\n",
       "       [0.  , 0.16, 1.  , 2.  , 2.  ],\n",
       "       [1.  , 0.07, 0.  , 0.  , 0.  ],\n",
       "       [0.  , 0.06, 1.  , 2.  , 2.  ],\n",
       "       [1.  , 0.14, 0.  , 0.  , 0.  ],\n",
       "       [1.  , 0.14, 0.  , 0.  , 0.  ],\n",
       "       [0.  , 0.09, 0.98, 2.  , 2.  ]])"
      ]
     },
     "execution_count": 24,
     "metadata": {},
     "output_type": "execute_result"
    }
   ],
   "source": [
    "last_data = np.concatenate((y_proba_set, y_proba_ver, y_proba_vir, prediction_final, y_test.reshape(1, len(y_test)) ), axis =0).T\n",
    "last_data"
   ]
  },
  {
   "cell_type": "code",
   "execution_count": 25,
   "metadata": {},
   "outputs": [
    {
     "data": {
      "text/plain": [
       "array([[11,  0,  0],\n",
       "       [ 0, 14,  3],\n",
       "       [ 0,  0, 10]], dtype=int64)"
      ]
     },
     "execution_count": 25,
     "metadata": {},
     "output_type": "execute_result"
    }
   ],
   "source": [
    "cm = confusion_matrix(y_test, prediction_final.flatten())\n",
    "cm"
   ]
  },
  {
   "cell_type": "code",
   "execution_count": 26,
   "metadata": {},
   "outputs": [
    {
     "data": {
      "text/plain": [
       "0.9210526315789473"
      ]
     },
     "execution_count": 26,
     "metadata": {},
     "output_type": "execute_result"
    }
   ],
   "source": [
    "actual = 0\n",
    "total = 0\n",
    "\n",
    "for i in range(len(cm)):\n",
    "    for j in range(len(cm[i])):\n",
    "        if i == j:\n",
    "            actual = cm[i][j] + actual\n",
    "        total = cm[i][j] + total\n",
    "actual / total"
   ]
  },
  {
   "cell_type": "code",
   "execution_count": 27,
   "metadata": {},
   "outputs": [
    {
     "data": {
      "image/png": "[encoded data removed]",
      "text/plain": [
       "<Figure size 432x288 with 2 Axes>"
      ]
     },
     "metadata": {
      "needs_background": "light"
     },
     "output_type": "display_data"
    }
   ],
   "source": [
    "y_axis_labels = iris[\"target_names\"]\n",
    "x_axis_labels = ['setosa_pred', 'versicolor_pred', 'virginica_pred']\n",
    "f = sns.heatmap(cm, annot=True, xticklabels=x_axis_labels, yticklabels=y_axis_labels)"
   ]
  },
  {
   "cell_type": "code",
   "execution_count": 28,
   "metadata": {},
   "outputs": [
    {
     "name": "stdout",
     "output_type": "stream",
     "text": [
      "              precision    recall  f1-score   support\n",
      "\n",
      "      setosa       1.00      1.00      1.00        11\n",
      "  versicolor       1.00      0.82      0.90        17\n",
      "   virginica       0.77      1.00      0.87        10\n",
      "\n",
      "    accuracy                           0.92        38\n",
      "   macro avg       0.92      0.94      0.92        38\n",
      "weighted avg       0.94      0.92      0.92        38\n",
      "\n"
     ]
    }
   ],
   "source": [
    "print(classification_report(y_test,  prediction_final.flatten(), target_names= iris[\"target_names\"]))"
   ]
  },
  {
   "cell_type": "code",
   "execution_count": null,
   "metadata": {},
   "outputs": [],
   "source": []
  }
 ],
 "metadata": {
  "kernelspec": {
   "display_name": "Python 3",
   "language": "python",
   "name": "python3"
  },
  "language_info": {
   "codemirror_mode": {
    "name": "ipython",
    "version": 3
   },
   "file_extension": ".py",
   "mimetype": "text/x-python",
   "name": "python",
   "nbconvert_exporter": "python",
   "pygments_lexer": "ipython3",
   "version": "3.8.5"
  },
  "metadata": {
   "interpreter": {
    "hash": "38f79fadc0c6717ea4a008b057f37067dd9b409fcdcbbd28252f8fecfca32678"
   }
  }
 },
 "nbformat": 4,
 "nbformat_minor": 2
}
